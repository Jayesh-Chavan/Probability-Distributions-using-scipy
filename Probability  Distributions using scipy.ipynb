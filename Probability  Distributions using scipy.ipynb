{
 "cells": [
  {
   "cell_type": "markdown",
   "id": "9c858e0c",
   "metadata": {},
   "source": [
    "### Content:\n",
    "   * Methods\n",
    "   * Bernoulli distribution\n",
    "   * Binomial distribution\n",
    "   * Poisson distribution\n",
    "   * Negative Binomial distribution\n",
    "   * Normal distribution\n",
    "   * Exponential distribution"
   ]
  },
  {
   "cell_type": "markdown",
   "id": "10c5cb49",
   "metadata": {},
   "source": [
    "## Methods\n",
    "- pmf/pdf=Probability mass/density function\n",
    "- cdf=Cumulative distribution function\n",
    "- stats=Mean, variance, skew, kurtosis\n",
    "- rvs=Random samples### "
   ]
  },
  {
   "cell_type": "markdown",
   "id": "27a232b5",
   "metadata": {},
   "source": [
    "### Bernoulli distribution"
   ]
  },
  {
   "cell_type": "code",
   "execution_count": 3,
   "id": "663f34b8",
   "metadata": {},
   "outputs": [],
   "source": [
    "import numpy as np\n",
    "from scipy.stats import bernoulli\n",
    "import matplotlib.pyplot as plt\n",
    "%matplotlib inline"
   ]
  },
  {
   "cell_type": "code",
   "execution_count": 2,
   "id": "2eba0e40",
   "metadata": {},
   "outputs": [
    {
     "data": {
      "text/plain": [
       "array([0.7, 0.3])"
      ]
     },
     "execution_count": 2,
     "metadata": {},
     "output_type": "execute_result"
    }
   ],
   "source": [
    "p = 0.3\n",
    "x = [0,1]\n",
    "bernoulli.pmf(x,p)"
   ]
  },
  {
   "cell_type": "code",
   "execution_count": 3,
   "id": "f81a0447",
   "metadata": {},
   "outputs": [
    {
     "data": {
      "text/plain": [
       "array([0.7, 1. ])"
      ]
     },
     "execution_count": 3,
     "metadata": {},
     "output_type": "execute_result"
    }
   ],
   "source": [
    "bernoulli.cdf(x,p)"
   ]
  },
  {
   "cell_type": "raw",
   "id": "b97db0b1",
   "metadata": {},
   "source": [
    "moments : str, optional\n",
    "    composed of letters ['mvsk'] defining which moments to compute:\n",
    "    'm' = mean,\n",
    "    'v' = variance,\n",
    "    's' = (Fisher's) skew,\n",
    "    'k' = (Fisher's) kurtosis.\n",
    "    (default is 'mv')"
   ]
  },
  {
   "cell_type": "code",
   "execution_count": 4,
   "id": "63cef7ea",
   "metadata": {},
   "outputs": [
    {
     "name": "stdout",
     "output_type": "stream",
     "text": [
      "0.3\n",
      "0.21\n",
      "0.8728715609439694\n",
      "-1.2380952380952381\n"
     ]
    }
   ],
   "source": [
    "mean, var, skew, kurt = bernoulli.stats(p, moments = 'mvsk')\n",
    "print(mean)\n",
    "print(var)\n",
    "print(skew)\n",
    "print(kurt)"
   ]
  },
  {
   "cell_type": "code",
   "execution_count": 5,
   "id": "844734c5",
   "metadata": {},
   "outputs": [
    {
     "data": {
      "text/plain": [
       "array([0, 1, 0, 0, 0, 0, 0, 0, 0, 0])"
      ]
     },
     "execution_count": 5,
     "metadata": {},
     "output_type": "execute_result"
    }
   ],
   "source": [
    "bernoulli.rvs(p, size = 10)"
   ]
  },
  {
   "cell_type": "code",
   "execution_count": 6,
   "id": "c3761fe1",
   "metadata": {},
   "outputs": [
    {
     "data": {
      "image/png": "[encoded data removed]",
      "text/plain": [
       "<Figure size 432x288 with 1 Axes>"
      ]
     },
     "metadata": {
      "needs_background": "light"
     },
     "output_type": "display_data"
    }
   ],
   "source": [
    "plt.plot(x,bernoulli.pmf(x,0.5), ls='', marker='s',color='g')\n",
    "plt.xlabel('x')\n",
    "plt.ylabel('Prob')\n",
    "plt.title('PMF of Bernoulli')\n",
    "plt.show()"
   ]
  },
  {
   "cell_type": "code",
   "execution_count": 7,
   "id": "a62266af",
   "metadata": {},
   "outputs": [
    {
     "data": {
      "image/png": "[encoded data removed]",
      "text/plain": [
       "<Figure size 432x288 with 1 Axes>"
      ]
     },
     "metadata": {
      "needs_background": "light"
     },
     "output_type": "display_data"
    }
   ],
   "source": [
    "#generate bernoulli\n",
    "data_bern = bernoulli.rvs(size=1000, p =0.4)\n",
    "plt.hist(data_bern,color = 'g',bins=20)\n",
    "plt.xlabel('x')\n",
    "plt.ylabel('Freq')\n",
    "plt.title('Histogram')\n",
    "plt.show()"
   ]
  },
  {
   "cell_type": "markdown",
   "id": "aa41d1a7",
   "metadata": {},
   "source": [
    "### Binomial distribution"
   ]
  },
  {
   "cell_type": "code",
   "execution_count": 8,
   "id": "ddf74f8c",
   "metadata": {},
   "outputs": [],
   "source": [
    "from scipy.stats import binom"
   ]
  },
  {
   "cell_type": "code",
   "execution_count": 9,
   "id": "da68ebcf",
   "metadata": {},
   "outputs": [
    {
     "data": {
      "text/plain": [
       "array([ 0,  1,  2,  3,  4,  5,  6,  7,  8,  9, 10])"
      ]
     },
     "execution_count": 9,
     "metadata": {},
     "output_type": "execute_result"
    }
   ],
   "source": [
    "n, p = 10, 0.3\n",
    "x = np.arange(11)\n",
    "x"
   ]
  },
  {
   "cell_type": "code",
   "execution_count": 10,
   "id": "ee76eb37",
   "metadata": {},
   "outputs": [
    {
     "data": {
      "text/plain": [
       "array([2.82475249e-02, 1.21060821e-01, 2.33474440e-01, 2.66827932e-01,\n",
       "       2.00120949e-01, 1.02919345e-01, 3.67569090e-02, 9.00169200e-03,\n",
       "       1.44670050e-03, 1.37781000e-04, 5.90490000e-06])"
      ]
     },
     "execution_count": 10,
     "metadata": {},
     "output_type": "execute_result"
    }
   ],
   "source": [
    "binom.pmf(x,n,p)"
   ]
  },
  {
   "cell_type": "code",
   "execution_count": 11,
   "id": "557dde1c",
   "metadata": {},
   "outputs": [
    {
     "data": {
      "text/plain": [
       "array([0.02824752, 0.14930835, 0.38278279, 0.64961072, 0.84973167,\n",
       "       0.95265101, 0.98940792, 0.99840961, 0.99985631, 0.9999941 ,\n",
       "       1.        ])"
      ]
     },
     "execution_count": 11,
     "metadata": {},
     "output_type": "execute_result"
    }
   ],
   "source": [
    "binom.cdf(x,n,p)"
   ]
  },
  {
   "cell_type": "code",
   "execution_count": 12,
   "id": "9edab370",
   "metadata": {},
   "outputs": [
    {
     "name": "stdout",
     "output_type": "stream",
     "text": [
      "3.0\n",
      "2.0999999999999996\n",
      "0.2760262237369417\n",
      "-0.12380952380952373\n"
     ]
    }
   ],
   "source": [
    "mean, var, skew, kurt = binom.stats(n, p, moments='mvsk')\n",
    "print(mean)\n",
    "print(var)\n",
    "print(skew)\n",
    "print(kurt)"
   ]
  },
  {
   "cell_type": "code",
   "execution_count": 13,
   "id": "b9c0b0c7",
   "metadata": {},
   "outputs": [
    {
     "data": {
      "text/plain": [
       "array([2, 2, 4, 4, 4, 5, 3, 5, 3, 6, 5, 3, 4, 4, 3])"
      ]
     },
     "execution_count": 13,
     "metadata": {},
     "output_type": "execute_result"
    }
   ],
   "source": [
    "binom.rvs(n, p, size = 15)"
   ]
  },
  {
   "cell_type": "code",
   "execution_count": 24,
   "id": "c3f301cb",
   "metadata": {},
   "outputs": [
    {
     "data": {
      "image/png": "[encoded data removed]",
      "text/plain": [
       "<Figure size 432x288 with 1 Axes>"
      ]
     },
     "metadata": {
      "needs_background": "light"
     },
     "output_type": "display_data"
    }
   ],
   "source": [
    "plt.plot(x, binom.pmf(x,n,p = 0.3), '--', marker = 'o')\n",
    "plt.xlabel('x')\n",
    "plt.ylabel('Prob')\n",
    "plt.title('PMF of Binomial')\n",
    "plt.show()"
   ]
  },
  {
   "cell_type": "code",
   "execution_count": 75,
   "id": "56a95049",
   "metadata": {},
   "outputs": [
    {
     "data": {
      "image/png": "[encoded data removed]",
      "text/plain": [
       "<Figure size 432x288 with 1 Axes>"
      ]
     },
     "metadata": {
      "needs_background": "light"
     },
     "output_type": "display_data"
    }
   ],
   "source": [
    "data_binom = binom.rvs(size = 10000, n=10, p=0.3)\n",
    "plt.hist(data_binom, color = 'g')#, bins = 20)\n",
    "plt.xlabel('x')\n",
    "plt.ylabel('Freq')\n",
    "plt.title('Histogram')\n",
    "plt.show()"
   ]
  },
  {
   "cell_type": "markdown",
   "id": "46310eb4",
   "metadata": {},
   "source": [
    "### Poisson Distribution"
   ]
  },
  {
   "cell_type": "code",
   "execution_count": 76,
   "id": "c1b7cc25",
   "metadata": {},
   "outputs": [],
   "source": [
    "from scipy.stats import poisson"
   ]
  },
  {
   "cell_type": "code",
   "execution_count": 81,
   "id": "59624d24",
   "metadata": {},
   "outputs": [
    {
     "data": {
      "text/plain": [
       "array([ 0,  1,  2,  3,  4,  5,  6,  7,  8,  9, 10, 11, 12, 13, 14, 15, 16,\n",
       "       17, 18, 19])"
      ]
     },
     "execution_count": 81,
     "metadata": {},
     "output_type": "execute_result"
    }
   ],
   "source": [
    "rate = 2.5\n",
    "x = np.arange(20)\n",
    "x"
   ]
  },
  {
   "cell_type": "code",
   "execution_count": 83,
   "id": "7ad37a5b",
   "metadata": {},
   "outputs": [
    {
     "data": {
      "text/plain": [
       "array([8.20849986e-02, 2.05212497e-01, 2.56515621e-01, 2.13763017e-01,\n",
       "       1.33601886e-01, 6.68009429e-02, 2.78337262e-02, 9.94061650e-03,\n",
       "       3.10644266e-03, 8.62900738e-04, 2.15725184e-04, 4.90284510e-05,\n",
       "       1.02142606e-05, 1.96428089e-06, 3.50764445e-07, 5.84607408e-08,\n",
       "       9.13449075e-09, 1.34330746e-09, 1.86570481e-10, 2.45487475e-11])"
      ]
     },
     "execution_count": 83,
     "metadata": {},
     "output_type": "execute_result"
    }
   ],
   "source": [
    "poisson.pmf(x,rate)"
   ]
  },
  {
   "cell_type": "code",
   "execution_count": 84,
   "id": "cbe5733d",
   "metadata": {},
   "outputs": [
    {
     "data": {
      "text/plain": [
       "array([0.082085  , 0.2872975 , 0.54381312, 0.75757613, 0.89117802,\n",
       "       0.95797896, 0.98581269, 0.9957533 , 0.99885975, 0.99972265,\n",
       "       0.99993837, 0.9999874 , 0.99999762, 0.99999958, 0.99999993,\n",
       "       0.99999999, 1.        , 1.        , 1.        , 1.        ])"
      ]
     },
     "execution_count": 84,
     "metadata": {},
     "output_type": "execute_result"
    }
   ],
   "source": [
    "poisson.cdf(x, rate)"
   ]
  },
  {
   "cell_type": "code",
   "execution_count": 86,
   "id": "f5eeee9d",
   "metadata": {},
   "outputs": [
    {
     "data": {
      "text/plain": [
       "(array(2.5), array(2.5), array(0.63245553), array(0.4))"
      ]
     },
     "execution_count": 86,
     "metadata": {},
     "output_type": "execute_result"
    }
   ],
   "source": [
    "poisson.stats(rate, moments = 'mvsk')"
   ]
  },
  {
   "cell_type": "code",
   "execution_count": 97,
   "id": "ea452f24",
   "metadata": {},
   "outputs": [
    {
     "data": {
      "text/plain": [
       "array([4, 1, 6, 3, 2, 2, 3, 0, 3, 3, 2, 4, 2, 4, 3, 2, 3, 0, 1, 8, 4, 1,\n",
       "       3, 4, 4, 3, 3, 2, 2, 3])"
      ]
     },
     "execution_count": 97,
     "metadata": {},
     "output_type": "execute_result"
    }
   ],
   "source": [
    "poisson.rvs(mu = 2.5, size = 30)"
   ]
  },
  {
   "cell_type": "code",
   "execution_count": 104,
   "id": "2a35764b",
   "metadata": {},
   "outputs": [
    {
     "data": {
      "image/png": "[encoded data removed]",
      "text/plain": [
       "<Figure size 432x288 with 1 Axes>"
      ]
     },
     "metadata": {
      "needs_background": "light"
     },
     "output_type": "display_data"
    }
   ],
   "source": [
    "plt.plot(x, poisson.pmf(x,rate),'-', marker = 'o')\n",
    "plt.xlabel('x')\n",
    "plt.ylabel('Prob')\n",
    "plt.title('PMF of Poisson')\n",
    "plt.show()"
   ]
  },
  {
   "cell_type": "code",
   "execution_count": 141,
   "id": "e8b3bec0",
   "metadata": {},
   "outputs": [
    {
     "data": {
      "image/png": "[encoded data removed]",
      "text/plain": [
       "<Figure size 432x288 with 1 Axes>"
      ]
     },
     "metadata": {
      "needs_background": "light"
     },
     "output_type": "display_data"
    }
   ],
   "source": [
    "data_pois = poisson.rvs(rate, size = 10000)\n",
    "plt.hist(data_pois)\n",
    "plt.xlabel('x')\n",
    "plt.ylabel('Freq')\n",
    "plt.title('Histogram')\n",
    "plt.show()"
   ]
  },
  {
   "cell_type": "markdown",
   "id": "0231cd42",
   "metadata": {},
   "source": [
    "### Geometric Distribution"
   ]
  },
  {
   "cell_type": "code",
   "execution_count": 144,
   "id": "3098c33e",
   "metadata": {},
   "outputs": [],
   "source": [
    "from scipy.stats import geom"
   ]
  },
  {
   "cell_type": "code",
   "execution_count": 145,
   "id": "1fbb78a4",
   "metadata": {},
   "outputs": [
    {
     "data": {
      "text/plain": [
       "array([0, 1, 2, 3, 4, 5, 6, 7, 8, 9])"
      ]
     },
     "execution_count": 145,
     "metadata": {},
     "output_type": "execute_result"
    }
   ],
   "source": [
    "p = 0.4\n",
    "x = np.arange(10)\n",
    "x"
   ]
  },
  {
   "cell_type": "code",
   "execution_count": 146,
   "id": "2c36bbfb",
   "metadata": {},
   "outputs": [
    {
     "data": {
      "text/plain": [
       "array([0.        , 0.4       , 0.24      , 0.144     , 0.0864    ,\n",
       "       0.05184   , 0.031104  , 0.0186624 , 0.01119744, 0.00671846])"
      ]
     },
     "execution_count": 146,
     "metadata": {},
     "output_type": "execute_result"
    }
   ],
   "source": [
    "geom.pmf(x, p)"
   ]
  },
  {
   "cell_type": "code",
   "execution_count": 147,
   "id": "c4bf30d8",
   "metadata": {},
   "outputs": [
    {
     "data": {
      "text/plain": [
       "array([0.        , 0.4       , 0.64      , 0.784     , 0.8704    ,\n",
       "       0.92224   , 0.953344  , 0.9720064 , 0.98320384, 0.9899223 ])"
      ]
     },
     "execution_count": 147,
     "metadata": {},
     "output_type": "execute_result"
    }
   ],
   "source": [
    "geom.cdf(x, p)"
   ]
  },
  {
   "cell_type": "code",
   "execution_count": 342,
   "id": "0b28ebca",
   "metadata": {},
   "outputs": [
    {
     "data": {
      "text/plain": [
       "(array(2.5), array(3.75), array(2.06559112), array(6.26666667))"
      ]
     },
     "execution_count": 342,
     "metadata": {},
     "output_type": "execute_result"
    }
   ],
   "source": [
    "geom.stats(p = 0.4, moments = 'mvsk')"
   ]
  },
  {
   "cell_type": "code",
   "execution_count": 195,
   "id": "88d59a8f",
   "metadata": {
    "scrolled": true
   },
   "outputs": [
    {
     "data": {
      "text/plain": [
       "array([4, 1, 3, 1, 9, 5, 8, 1, 1, 1])"
      ]
     },
     "execution_count": 195,
     "metadata": {},
     "output_type": "execute_result"
    }
   ],
   "source": [
    "geom.rvs(p, size = 10)"
   ]
  },
  {
   "cell_type": "code",
   "execution_count": 207,
   "id": "3989b7c1",
   "metadata": {
    "scrolled": true
   },
   "outputs": [
    {
     "data": {
      "image/png": "[encoded data removed]",
      "text/plain": [
       "<Figure size 432x288 with 1 Axes>"
      ]
     },
     "metadata": {
      "needs_background": "light"
     },
     "output_type": "display_data"
    }
   ],
   "source": [
    "plt.plot(x,geom.pmf(x, p), '--', marker = 'o')\n",
    "plt.xlabel('x')\n",
    "plt.ylabel('Prob')\n",
    "plt.xlim([1,10])\n",
    "plt.title('PMF of Geometric')\n",
    "plt.show()"
   ]
  },
  {
   "cell_type": "code",
   "execution_count": 246,
   "id": "bccbf06e",
   "metadata": {},
   "outputs": [
    {
     "data": {
      "image/png": "[encoded data removed]",
      "text/plain": [
       "<Figure size 432x288 with 1 Axes>"
      ]
     },
     "metadata": {
      "needs_background": "light"
     },
     "output_type": "display_data"
    }
   ],
   "source": [
    "data_geom = geom.rvs(p, size = 10000)\n",
    "plt.hist(data_geom)\n",
    "plt.xlabel('x')\n",
    "plt.ylabel('Freq')\n",
    "plt.title('Histogram')\n",
    "plt.show()"
   ]
  },
  {
   "cell_type": "markdown",
   "id": "13eced81",
   "metadata": {},
   "source": [
    "### Negative Binomial Distribution"
   ]
  },
  {
   "cell_type": "code",
   "execution_count": 208,
   "id": "419fb99f",
   "metadata": {},
   "outputs": [],
   "source": [
    "from scipy.stats import nbinom"
   ]
  },
  {
   "cell_type": "code",
   "execution_count": 209,
   "id": "bbd2544e",
   "metadata": {},
   "outputs": [
    {
     "data": {
      "text/plain": [
       "array([0, 1, 2, 3, 4, 5, 6, 7, 8, 9])"
      ]
     },
     "execution_count": 209,
     "metadata": {},
     "output_type": "execute_result"
    }
   ],
   "source": [
    "k, p = 2, 0.3\n",
    "x = np.arange(10)\n",
    "x"
   ]
  },
  {
   "cell_type": "code",
   "execution_count": 211,
   "id": "aa84a958",
   "metadata": {},
   "outputs": [
    {
     "data": {
      "text/plain": [
       "array([0.09      , 0.126     , 0.1323    , 0.12348   , 0.108045  ,\n",
       "       0.0907578 , 0.07411887, 0.0592951 , 0.04669489, 0.03631825])"
      ]
     },
     "execution_count": 211,
     "metadata": {},
     "output_type": "execute_result"
    }
   ],
   "source": [
    "nbinom.pmf(x,k,p)"
   ]
  },
  {
   "cell_type": "code",
   "execution_count": 213,
   "id": "b17d83c3",
   "metadata": {},
   "outputs": [
    {
     "data": {
      "text/plain": [
       "array([0.09      , 0.216     , 0.3483    , 0.47178   , 0.579825  ,\n",
       "       0.6705828 , 0.74470167, 0.80399677, 0.85069165, 0.8870099 ])"
      ]
     },
     "execution_count": 213,
     "metadata": {},
     "output_type": "execute_result"
    }
   ],
   "source": [
    "nbinom.cdf(x,k,p)"
   ]
  },
  {
   "cell_type": "code",
   "execution_count": 215,
   "id": "195138cd",
   "metadata": {},
   "outputs": [
    {
     "data": {
      "text/plain": [
       "(array(4.66666667), array(15.55555556), array(1.43676223), array(3.06428571))"
      ]
     },
     "execution_count": 215,
     "metadata": {},
     "output_type": "execute_result"
    }
   ],
   "source": [
    "nbinom.stats(k,p,moments = 'mvsk')"
   ]
  },
  {
   "cell_type": "code",
   "execution_count": 235,
   "id": "e0df44a1",
   "metadata": {},
   "outputs": [
    {
     "data": {
      "text/plain": [
       "array([2, 0, 2, 1, 2, 1, 0, 2, 6, 0])"
      ]
     },
     "execution_count": 235,
     "metadata": {},
     "output_type": "execute_result"
    }
   ],
   "source": [
    "nbinom.rvs(k,p=0.4,size = 10)"
   ]
  },
  {
   "cell_type": "code",
   "execution_count": 242,
   "id": "d13b5565",
   "metadata": {},
   "outputs": [
    {
     "data": {
      "image/png": "[encoded data removed]",
      "text/plain": [
       "<Figure size 432x288 with 1 Axes>"
      ]
     },
     "metadata": {
      "needs_background": "light"
     },
     "output_type": "display_data"
    }
   ],
   "source": [
    "plt.plot(x,nbinom.pmf(x,k,p),'--',marker = 'o')\n",
    "plt.xlabel('x')\n",
    "plt.ylabel('Prob')\n",
    "plt.xlim([1,10])\n",
    "plt.title('PMF of Negative Binomial')\n",
    "plt.show()"
   ]
  },
  {
   "cell_type": "code",
   "execution_count": 256,
   "id": "ecfb6909",
   "metadata": {},
   "outputs": [
    {
     "data": {
      "image/png": "[encoded data removed]",
      "text/plain": [
       "<Figure size 432x288 with 1 Axes>"
      ]
     },
     "metadata": {
      "needs_background": "light"
     },
     "output_type": "display_data"
    }
   ],
   "source": [
    "data_nbinom = nbinom.rvs(k, p, size = 10000)\n",
    "plt.hist(data_nbinom)\n",
    "plt.xlabel('x')\n",
    "plt.ylabel('Freq')\n",
    "plt.title('Histogram')\n",
    "plt.show()"
   ]
  },
  {
   "cell_type": "markdown",
   "id": "ce00c761",
   "metadata": {},
   "source": [
    "### Normal Distribution"
   ]
  },
  {
   "cell_type": "code",
   "execution_count": 257,
   "id": "0ef462ff",
   "metadata": {},
   "outputs": [],
   "source": [
    "from scipy.stats import norm"
   ]
  },
  {
   "cell_type": "code",
   "execution_count": 271,
   "id": "934b478e",
   "metadata": {},
   "outputs": [],
   "source": [
    "x = np.linspace(-3,3,100)"
   ]
  },
  {
   "cell_type": "code",
   "execution_count": 284,
   "id": "c0379bdd",
   "metadata": {},
   "outputs": [
    {
     "data": {
      "text/plain": [
       "array([1.53891973e-22, 5.13384924e-22, 1.68767741e-21, 5.46707388e-21,\n",
       "       1.74517760e-20, 5.48963538e-20, 1.70163555e-19, 5.19767094e-19,\n",
       "       1.56448064e-18, 4.64035053e-18, 1.35628376e-17, 3.90633531e-17,\n",
       "       1.10868368e-16, 3.10073731e-16, 8.54557862e-16, 2.32079700e-15,\n",
       "       6.21086396e-15, 1.63789501e-14, 4.25636912e-14, 1.08996283e-13,\n",
       "       2.75044697e-13, 6.83933763e-13, 1.67588415e-12, 4.04662651e-12,\n",
       "       9.62856206e-12, 2.25761003e-11, 5.21621639e-11, 1.18763081e-10,\n",
       "       2.66456605e-10, 5.89102285e-10, 1.28343567e-09, 2.75534944e-09,\n",
       "       5.82905892e-09, 1.21517657e-08, 2.49631571e-08, 5.05334343e-08,\n",
       "       1.00803892e-07, 1.98150406e-07, 3.83823723e-07, 7.32635303e-07,\n",
       "       1.37804390e-06, 2.55421495e-06, 4.66520804e-06, 8.39660587e-06,\n",
       "       1.48920917e-05, 2.60271622e-05, 4.48246715e-05, 7.60723081e-05,\n",
       "       1.27219959e-04, 2.09653971e-04, 3.40463151e-04, 5.44824109e-04,\n",
       "       8.59135572e-04, 1.33501537e-03, 2.04423120e-03, 3.08455799e-03,\n",
       "       4.58643294e-03, 6.72010932e-03, 9.70279395e-03, 1.38050016e-02,\n",
       "       1.93550944e-02, 2.67407330e-02, 3.64057937e-02, 4.88412624e-02,\n",
       "       6.45687589e-02, 8.41157221e-02, 1.07981933e-01, 1.36597955e-01,\n",
       "       1.70277193e-01, 2.09164485e-01, 2.53185360e-01, 3.02001024e-01,\n",
       "       3.54974718e-01, 4.11155034e-01, 4.69281011e-01, 5.27812330e-01,\n",
       "       5.84985719e-01, 6.38896011e-01, 6.87597471e-01, 7.29218279e-01,\n",
       "       7.62079015e-01, 7.84804781e-01, 7.96420553e-01, 7.96420553e-01,\n",
       "       7.84804781e-01, 7.62079015e-01, 7.29218279e-01, 6.87597471e-01,\n",
       "       6.38896011e-01, 5.84985719e-01, 5.27812330e-01, 4.69281011e-01,\n",
       "       4.11155034e-01, 3.54974718e-01, 3.02001024e-01, 2.53185360e-01,\n",
       "       2.09164485e-01, 1.70277193e-01, 1.36597955e-01, 1.07981933e-01])"
      ]
     },
     "execution_count": 284,
     "metadata": {},
     "output_type": "execute_result"
    }
   ],
   "source": [
    "norm.pdf(x, loc=2, scale=0.5)"
   ]
  },
  {
   "cell_type": "code",
   "execution_count": 285,
   "id": "0bd708f8",
   "metadata": {},
   "outputs": [
    {
     "data": {
      "text/plain": [
       "array([0.0013499 , 0.00164427, 0.00199603, 0.00241482, 0.00291159,\n",
       "       0.00349868, 0.00418999, 0.00500104, 0.00594906, 0.00705314,\n",
       "       0.00833425, 0.00981533, 0.01152131, 0.01347915, 0.01571778,\n",
       "       0.01826811, 0.02116287, 0.02443656, 0.02812518, 0.03226612,\n",
       "       0.03689778, 0.04205935, 0.04779035, 0.0541303 , 0.06111818,\n",
       "       0.06879198, 0.07718815, 0.08634102, 0.09628221, 0.10704004,\n",
       "       0.11863893, 0.13109879, 0.14443448, 0.15865525, 0.17376426,\n",
       "       0.18975815, 0.20662669, 0.2243525 , 0.24291088, 0.26226972,\n",
       "       0.28238953, 0.30322357, 0.32471814, 0.34681289, 0.36944134,\n",
       "       0.39253143, 0.41600624, 0.43978468, 0.46378241, 0.48791269,\n",
       "       0.51208731, 0.53621759, 0.56021532, 0.58399376, 0.60746857,\n",
       "       0.63055866, 0.65318711, 0.67528186, 0.69677643, 0.71761047,\n",
       "       0.73773028, 0.75708912, 0.7756475 , 0.79337331, 0.81024185,\n",
       "       0.82623574, 0.84134475, 0.85556552, 0.86890121, 0.88136107,\n",
       "       0.89295996, 0.90371779, 0.91365898, 0.92281185, 0.93120802,\n",
       "       0.93888182, 0.9458697 , 0.95220965, 0.95794065, 0.96310222,\n",
       "       0.96773388, 0.97187482, 0.97556344, 0.97883713, 0.98173189,\n",
       "       0.98428222, 0.98652085, 0.98847869, 0.99018467, 0.99166575,\n",
       "       0.99294686, 0.99405094, 0.99499896, 0.99581001, 0.99650132,\n",
       "       0.99708841, 0.99758518, 0.99800397, 0.99835573, 0.9986501 ])"
      ]
     },
     "execution_count": 285,
     "metadata": {},
     "output_type": "execute_result"
    }
   ],
   "source": [
    "norm.cdf(x)"
   ]
  },
  {
   "cell_type": "code",
   "execution_count": 286,
   "id": "000c4dbd",
   "metadata": {},
   "outputs": [
    {
     "data": {
      "text/plain": [
       "(array(2.), array(2.25), array(0.), array(0.))"
      ]
     },
     "execution_count": 286,
     "metadata": {},
     "output_type": "execute_result"
    }
   ],
   "source": [
    "norm.stats(loc = 2, scale \n",
    "           = 1.5, moments = 'mvsk')"
   ]
  },
  {
   "cell_type": "code",
   "execution_count": 298,
   "id": "b96bb365",
   "metadata": {},
   "outputs": [
    {
     "data": {
      "image/png": "[encoded data removed]",
      "text/plain": [
       "<Figure size 432x288 with 1 Axes>"
      ]
     },
     "metadata": {
      "needs_background": "light"
     },
     "output_type": "display_data"
    }
   ],
   "source": [
    "plt.plot(x, norm.pdf(x,loc = 0, scale = 1))\n",
    "plt.xlabel('x')\n",
    "plt.ylabel('Prob')\n",
    "plt.title('PDF of Normal')\n",
    "plt.show()"
   ]
  },
  {
   "cell_type": "code",
   "execution_count": 339,
   "id": "7aa1592e",
   "metadata": {},
   "outputs": [
    {
     "data": {
      "image/png": "[encoded data removed]",
      "text/plain": [
       "<Figure size 432x288 with 1 Axes>"
      ]
     },
     "metadata": {
      "needs_background": "light"
     },
     "output_type": "display_data"
    }
   ],
   "source": [
    "data_norm = norm.rvs(size = 10000)\n",
    "plt.hist(data_norm)\n",
    "plt.xlabel('x')\n",
    "plt.ylabel('Freq')\n",
    "plt.title('Histogram')\n",
    "plt.show()"
   ]
  },
  {
   "cell_type": "markdown",
   "id": "2826129e",
   "metadata": {},
   "source": [
    "### Exponential Distribution"
   ]
  },
  {
   "cell_type": "code",
   "execution_count": 4,
   "id": "35e9436e",
   "metadata": {},
   "outputs": [],
   "source": [
    "from scipy.stats import expon"
   ]
  },
  {
   "cell_type": "code",
   "execution_count": 14,
   "id": "73c93fc9",
   "metadata": {},
   "outputs": [
    {
     "data": {
      "text/plain": [
       "array([3.        , 3.03030303, 3.06060606, 3.09090909, 3.12121212,\n",
       "       3.15151515, 3.18181818, 3.21212121, 3.24242424, 3.27272727,\n",
       "       3.3030303 , 3.33333333, 3.36363636, 3.39393939, 3.42424242,\n",
       "       3.45454545, 3.48484848, 3.51515152, 3.54545455, 3.57575758,\n",
       "       3.60606061, 3.63636364, 3.66666667, 3.6969697 , 3.72727273,\n",
       "       3.75757576, 3.78787879, 3.81818182, 3.84848485, 3.87878788,\n",
       "       3.90909091, 3.93939394, 3.96969697, 4.        , 4.03030303,\n",
       "       4.06060606, 4.09090909, 4.12121212, 4.15151515, 4.18181818,\n",
       "       4.21212121, 4.24242424, 4.27272727, 4.3030303 , 4.33333333,\n",
       "       4.36363636, 4.39393939, 4.42424242, 4.45454545, 4.48484848,\n",
       "       4.51515152, 4.54545455, 4.57575758, 4.60606061, 4.63636364,\n",
       "       4.66666667, 4.6969697 , 4.72727273, 4.75757576, 4.78787879,\n",
       "       4.81818182, 4.84848485, 4.87878788, 4.90909091, 4.93939394,\n",
       "       4.96969697, 5.        , 5.03030303, 5.06060606, 5.09090909,\n",
       "       5.12121212, 5.15151515, 5.18181818, 5.21212121, 5.24242424,\n",
       "       5.27272727, 5.3030303 , 5.33333333, 5.36363636, 5.39393939,\n",
       "       5.42424242, 5.45454545, 5.48484848, 5.51515152, 5.54545455,\n",
       "       5.57575758, 5.60606061, 5.63636364, 5.66666667, 5.6969697 ,\n",
       "       5.72727273, 5.75757576, 5.78787879, 5.81818182, 5.84848485,\n",
       "       5.87878788, 5.90909091, 5.93939394, 5.96969697, 6.        ])"
      ]
     },
     "execution_count": 14,
     "metadata": {},
     "output_type": "execute_result"
    }
   ],
   "source": [
    "mu = 2\n",
    "x = np.linspace(3,6,100)\n",
    "x"
   ]
  },
  {
   "cell_type": "code",
   "execution_count": 15,
   "id": "3b2a9186",
   "metadata": {},
   "outputs": [
    {
     "data": {
      "text/plain": [
       "array([0.36787944, 0.35689879, 0.3462459 , 0.33591098, 0.32588454,\n",
       "       0.31615738, 0.30672056, 0.29756541, 0.28868353, 0.28006676,\n",
       "       0.27170719, 0.26359714, 0.25572916, 0.24809603, 0.24069074,\n",
       "       0.23350648, 0.22653666, 0.21977488, 0.21321493, 0.20685079,\n",
       "       0.2006766 , 0.19468671, 0.1888756 , 0.18323795, 0.17776857,\n",
       "       0.17246245, 0.1673147 , 0.16232061, 0.15747559, 0.15277518,\n",
       "       0.14821507, 0.14379107, 0.13949912, 0.13533528, 0.13129573,\n",
       "       0.12737675, 0.12357474, 0.11988622, 0.1163078 , 0.11283619,\n",
       "       0.1094682 , 0.10620074, 0.1030308 , 0.09995549, 0.09697197,\n",
       "       0.0940775 , 0.09126943, 0.08854517, 0.08590223, 0.08333818,\n",
       "       0.08085066, 0.07843739, 0.07609615, 0.0738248 , 0.07162124,\n",
       "       0.06948345, 0.06740947, 0.0653974 , 0.06344539, 0.06155164,\n",
       "       0.05971442, 0.05793203, 0.05620285, 0.05452528, 0.05289778,\n",
       "       0.05131886, 0.04978707, 0.048301  , 0.04685929, 0.04546061,\n",
       "       0.04410368, 0.04278725, 0.04151011, 0.0402711 , 0.03906907,\n",
       "       0.03790291, 0.03677157, 0.03567399, 0.03460918, 0.03357615,\n",
       "       0.03257395, 0.03160167, 0.0306584 , 0.0297433 , 0.0288555 ,\n",
       "       0.02799421, 0.02715862, 0.02634798, 0.02556153, 0.02479856,\n",
       "       0.02405836, 0.02334025, 0.02264358, 0.02196771, 0.021312  ,\n",
       "       0.02067587, 0.02005873, 0.01946001, 0.01887915, 0.01831564])"
      ]
     },
     "execution_count": 15,
     "metadata": {},
     "output_type": "execute_result"
    }
   ],
   "source": [
    "expon.pdf(x, mu)"
   ]
  },
  {
   "cell_type": "code",
   "execution_count": 16,
   "id": "198a7e7b",
   "metadata": {},
   "outputs": [
    {
     "data": {
      "text/plain": [
       "array([0.63212056, 0.64310121, 0.6537541 , 0.66408902, 0.67411546,\n",
       "       0.68384262, 0.69327944, 0.70243459, 0.71131647, 0.71993324,\n",
       "       0.72829281, 0.73640286, 0.74427084, 0.75190397, 0.75930926,\n",
       "       0.76649352, 0.77346334, 0.78022512, 0.78678507, 0.79314921,\n",
       "       0.7993234 , 0.80531329, 0.8111244 , 0.81676205, 0.82223143,\n",
       "       0.82753755, 0.8326853 , 0.83767939, 0.84252441, 0.84722482,\n",
       "       0.85178493, 0.85620893, 0.86050088, 0.86466472, 0.86870427,\n",
       "       0.87262325, 0.87642526, 0.88011378, 0.8836922 , 0.88716381,\n",
       "       0.8905318 , 0.89379926, 0.8969692 , 0.90004451, 0.90302803,\n",
       "       0.9059225 , 0.90873057, 0.91145483, 0.91409777, 0.91666182,\n",
       "       0.91914934, 0.92156261, 0.92390385, 0.9261752 , 0.92837876,\n",
       "       0.93051655, 0.93259053, 0.9346026 , 0.93655461, 0.93844836,\n",
       "       0.94028558, 0.94206797, 0.94379715, 0.94547472, 0.94710222,\n",
       "       0.94868114, 0.95021293, 0.951699  , 0.95314071, 0.95453939,\n",
       "       0.95589632, 0.95721275, 0.95848989, 0.9597289 , 0.96093093,\n",
       "       0.96209709, 0.96322843, 0.96432601, 0.96539082, 0.96642385,\n",
       "       0.96742605, 0.96839833, 0.9693416 , 0.9702567 , 0.9711445 ,\n",
       "       0.97200579, 0.97284138, 0.97365202, 0.97443847, 0.97520144,\n",
       "       0.97594164, 0.97665975, 0.97735642, 0.97803229, 0.978688  ,\n",
       "       0.97932413, 0.97994127, 0.98053999, 0.98112085, 0.98168436])"
      ]
     },
     "execution_count": 16,
     "metadata": {},
     "output_type": "execute_result"
    }
   ],
   "source": [
    "expon.cdf(x, mu)"
   ]
  },
  {
   "cell_type": "code",
   "execution_count": 17,
   "id": "aced847b",
   "metadata": {},
   "outputs": [
    {
     "data": {
      "text/plain": [
       "(array(1.), array(1.), array(2.), array(6.))"
      ]
     },
     "execution_count": 17,
     "metadata": {},
     "output_type": "execute_result"
    }
   ],
   "source": [
    "expon.stats(moments = 'mvsk')"
   ]
  },
  {
   "cell_type": "code",
   "execution_count": 50,
   "id": "cb97fc19",
   "metadata": {
    "scrolled": true
   },
   "outputs": [
    {
     "data": {
      "text/plain": [
       "array([2.33376252, 5.05555736, 2.71009362, 2.73344138, 3.23677869,\n",
       "       3.70161566, 3.57154485, 4.89649847, 2.14312287, 5.83325898])"
      ]
     },
     "execution_count": 50,
     "metadata": {},
     "output_type": "execute_result"
    }
   ],
   "source": [
    "expon.rvs(loc=2,scale=3,size = 10) #loc=2,scale=3"
   ]
  },
  {
   "cell_type": "code",
   "execution_count": 58,
   "id": "b6736f49",
   "metadata": {},
   "outputs": [
    {
     "data": {
      "image/png": "[encoded data removed]",
      "text/plain": [
       "<Figure size 432x288 with 1 Axes>"
      ]
     },
     "metadata": {
      "needs_background": "light"
     },
     "output_type": "display_data"
    }
   ],
   "source": [
    "plt.plot(x,expon.pdf(x))\n",
    "plt.xlabel('x')\n",
    "plt.ylabel('Prob')\n",
    "plt.title('PMF of Exponential')\n",
    "plt.show()"
   ]
  },
  {
   "cell_type": "code",
   "execution_count": 66,
   "id": "648168d1",
   "metadata": {},
   "outputs": [
    {
     "data": {
      "image/png": "[encoded data removed]",
      "text/plain": [
       "<Figure size 432x288 with 1 Axes>"
      ]
     },
     "metadata": {
      "needs_background": "light"
     },
     "output_type": "display_data"
    }
   ],
   "source": [
    "data_expon = expon.rvs(size = 10000)\n",
    "plt.hist(data_expon)\n",
    "plt.xlabel('x')\n",
    "plt.ylabel('Freq')\n",
    "plt.title('histogram')\n",
    "plt.show()"
   ]
  }
 ],
 "metadata": {
  "kernelspec": {
   "display_name": "Python 3",
   "language": "python",
   "name": "python3"
  },
  "language_info": {
   "codemirror_mode": {
    "name": "ipython",
    "version": 3
   },
   "file_extension": ".py",
   "mimetype": "text/x-python",
   "name": "python",
   "nbconvert_exporter": "python",
   "pygments_lexer": "ipython3",
   "version": "3.8.8"
  }
 },
 "nbformat": 4,
 "nbformat_minor": 5
}
